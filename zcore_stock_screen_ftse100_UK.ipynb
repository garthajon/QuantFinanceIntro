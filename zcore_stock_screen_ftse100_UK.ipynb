{
  "nbformat": 4,
  "nbformat_minor": 0,
  "metadata": {
    "colab": {
      "provenance": [],
      "authorship_tag": "ABX9TyNabOtU5Qe2zPg1aZc/tCxz",
      "include_colab_link": true
    },
    "kernelspec": {
      "name": "python3",
      "display_name": "Python 3"
    },
    "language_info": {
      "name": "python"
    }
  },
  "cells": [
    {
      "cell_type": "markdown",
      "metadata": {
        "id": "view-in-github",
        "colab_type": "text"
      },
      "source": [
        "<a href=\"https://colab.research.google.com/github/garthajon/QuantFinanceIntro/blob/main/zcore_stock_screen_ftse100_UK.ipynb\" target=\"_parent\"><img src=\"https://colab.research.google.com/assets/colab-badge.svg\" alt=\"Open In Colab\"/></a>"
      ]
    },
    {
      "cell_type": "code",
      "execution_count": 3,
      "metadata": {
        "colab": {
          "base_uri": "https://localhost:8080/"
        },
        "id": "9BssnENHRtJy",
        "outputId": "03127d24-f8b9-4237-b0e5-df3fd5963a5b"
      },
      "outputs": [
        {
          "output_type": "stream",
          "name": "stderr",
          "text": [
            "/tmp/ipython-input-3088203546.py:16: FutureWarning: Passing literal html to 'read_html' is deprecated and will be removed in a future version. To read from a literal string, wrap it in a 'StringIO' object.\n",
            "  tables = pd.read_html(resp.text)\n",
            "/tmp/ipython-input-3088203546.py:53: FutureWarning: YF.download() has changed argument auto_adjust default to True\n",
            "  data = yf.download(tickers, start=start_date, end=end_date, interval=\"1d\", progress=False)[\"Close\"]\n"
          ]
        },
        {
          "output_type": "stream",
          "name": "stdout",
          "text": [
            "Downloading 100 tickers (1 year daily)...\n",
            "94 tickers with complete data.\n",
            "\n",
            "\n",
            "=== FTSE 100 STOCK SCREENER: Z > 2 OR Z < -2 ===\n",
            "\n",
            "         Z-Score\n",
            "AZN.L   3.238027\n",
            "TSCO.L  2.587613\n",
            "GSK.L   2.197065\n"
          ]
        }
      ],
      "source": [
        "import yfinance as yf\n",
        "import pandas as pd\n",
        "import numpy as np\n",
        "import requests\n",
        "from datetime import datetime, timedelta\n",
        "\n",
        "# ------------------ Fetch FTSE 100 tickers ------------------\n",
        "ftse100_url = \"https://en.wikipedia.org/wiki/FTSE_100_Index\"\n",
        "headers = {\n",
        "    \"User-Agent\": (\n",
        "        \"Mozilla/5.0 (Windows NT 10.0; Win64; x64) \"\n",
        "        \"AppleWebKit/537.36 (KHTML, like Gecko) Chrome/115.0 Safari/537.36\"\n",
        "    )\n",
        "}\n",
        "resp = requests.get(ftse100_url, headers=headers)\n",
        "tables = pd.read_html(resp.text)\n",
        "\n",
        "ftse100_table = None\n",
        "\n",
        "for t in tables:\n",
        "    # Flatten MultiIndex columns if needed\n",
        "    if isinstance(t.columns, pd.MultiIndex):\n",
        "        t.columns = [\" \".join(map(str, col)).strip() for col in t.columns.values]\n",
        "    else:\n",
        "        t.columns = t.columns.astype(str)\n",
        "\n",
        "    # Find table that contains something like \"EPIC\", \"Ticker\", or \"Symbol\"\n",
        "    if any(c.lower() in [\"epic\", \"ticker\", \"symbol\"] for c in t.columns.str.lower()):\n",
        "        ftse100_table = t\n",
        "        break\n",
        "\n",
        "if ftse100_table is None:\n",
        "    raise ValueError(\"Could not find FTSE 100 constituents table on Wikipedia. Structure may have changed.\")\n",
        "\n",
        "# Identify the correct ticker column\n",
        "ticker_col = next(\n",
        "    (col for col in ftse100_table.columns if col.lower() in [\"epic\", \"ticker\", \"symbol\"]),\n",
        "    None\n",
        ")\n",
        "if ticker_col is None:\n",
        "    raise ValueError(\"No 'EPIC' or 'Ticker' column found in FTSE 100 table.\")\n",
        "\n",
        "tickers = ftse100_table[ticker_col].dropna().astype(str).str.strip().str.upper()\n",
        "\n",
        "# Append .L suffix for Yahoo Finance (London-listed)\n",
        "tickers = [f\"{t}.L\" for t in tickers]\n",
        "\n",
        "# ------------------ Fetch daily close price data ------------------\n",
        "end_date = datetime.today()\n",
        "start_date = end_date - timedelta(weeks=52*1)  # 1 year\n",
        "\n",
        "print(f\"Downloading {len(tickers)} tickers (1 year daily)...\")\n",
        "data = yf.download(tickers, start=start_date, end=end_date, interval=\"1d\", progress=False)[\"Close\"]\n",
        "\n",
        "# Drop tickers with incomplete data\n",
        "data = data.dropna(axis=1, how=\"any\")\n",
        "available_tickers = list(data.columns)\n",
        "print(f\"{len(available_tickers)} tickers with complete data.\\n\")\n",
        "\n",
        "# ------------------ Compute weekly annualized volatility ------------------\n",
        "returns = data.pct_change().dropna()\n",
        "weekly_std = returns.resample(\"W\").std() * np.sqrt(252)  # annualized volatility\n",
        "\n",
        "# ------------------ Compute Z-score (most recent week) ------------------\n",
        "zscore_params = {}\n",
        "for ticker in available_tickers:\n",
        "    mu = weekly_std[ticker].mean()\n",
        "    sigma = weekly_std[ticker].std(ddof=0)\n",
        "    zscore_params[ticker] = (mu, sigma)\n",
        "\n",
        "latest_weekly_std = weekly_std.iloc[-1]\n",
        "\n",
        "zscores = pd.Series({\n",
        "    t: (latest_weekly_std[t] - zscore_params[t][0]) / zscore_params[t][1]\n",
        "    for t in available_tickers\n",
        "})\n",
        "\n",
        "# ------------------ Screener: only extreme tickers ------------------\n",
        "extreme_z = zscores[(zscores > 2) | (zscores < -2)].sort_values(ascending=False)\n",
        "\n",
        "# ------------------ Display screener ------------------\n",
        "print(\"\\n=== FTSE 100 STOCK SCREENER: Z > 2 OR Z < -2 ===\\n\")\n",
        "print(extreme_z.to_frame(\"Z-Score\"))\n"
      ]
    }
  ]
}